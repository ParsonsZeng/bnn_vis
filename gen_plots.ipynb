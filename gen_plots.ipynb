{
 "cells": [
  {
   "cell_type": "code",
   "execution_count": null,
   "metadata": {
    "collapsed": true
   },
   "outputs": [],
   "source": [
    "import numpy as np\n",
    "import matplotlib.pyplot as plt\n",
    "plt.rcParams['font.size'] = 8\n",
    "plt.rcParams['mathtext.fontset'] = 'cm'\n",
    "%matplotlib inline\n",
    "\n",
    "import tensorflow as tf\n",
    "\n",
    "from utils import conv2d\n",
    "from plotting import (angle_plot, corr_plot, stddev_angles, \n",
    "                      weight_dist, get_angles, kde_scipy, hist2d)\n",
    "\n",
    "from bnn import BinaryNeuralNetwork, ClassifierGenerator\n",
    "from data.load_data import load_cifar10, CIFAR10\n",
    "\n",
    "# Quickly load changes from imported functions, e.g. from plotting.py\n",
    "# %load_ext autoreload\n",
    "# %autoreload 2"
   ]
  },
  {
   "cell_type": "code",
   "execution_count": null,
   "metadata": {
    "collapsed": true
   },
   "outputs": [],
   "source": [
    "data_set = CIFAR10\n",
    "_, _, _, _, test_data, test_labels = load_cifar10(train=False)"
   ]
  },
  {
   "cell_type": "code",
   "execution_count": null,
   "metadata": {
    "collapsed": true
   },
   "outputs": [],
   "source": [
    "n_imgs = 500   # Try 50 for faster plot generation\n",
    "\n",
    "test_data = test_data[0:n_imgs]\n",
    "test_labels = test_labels[0:n_imgs]"
   ]
  },
  {
   "cell_type": "code",
   "execution_count": null,
   "metadata": {
    "collapsed": true
   },
   "outputs": [],
   "source": [
    "mode = ['b', 't'][0]  # Binary vs ternary\n",
    "\n",
    "# Params need to match those used for training the network (e.g. in run_bnn.py)\n",
    "\n",
    "if mode == 'b':\n",
    "    bnn = BinaryNeuralNetwork(\n",
    "        in_dim=(32, 32, 3), \n",
    "        out_dim=10, \n",
    "        network_params={\n",
    "            'conv': [128, 128, 256, 256, 512, 512],\n",
    "            'max_pool': [False, True, False, True, False, True],\n",
    "            'filter_size': 3,\n",
    "            'fc': [1024, 1024],\n",
    "            'bin_acts': [True] * 6,\n",
    "            'bin_weights': [True] * 6,\n",
    "            'levels': 2,\n",
    "            'threshold': 0.,\n",
    "        },\n",
    "        param_file='tmp/cifar-10_model_2_levels.ckpt'\n",
    "    )\n",
    "    exp = np.arccos(np.sqrt(2/np.pi))\n",
    "\n",
    "elif mode == 't':\n",
    "    bnn = BinaryNeuralNetwork(\n",
    "        in_dim=(32, 32, 3), \n",
    "        out_dim=10, \n",
    "        network_params={\n",
    "            'conv': [128, 128, 256, 256, 512, 512],\n",
    "            'max_pool': [False, True, False, True, False, True],\n",
    "            'filter_size': 3,\n",
    "            'fc': [1024, 1024],\n",
    "            'bin_acts': [True] * 6,\n",
    "            'bin_weights': [True] * 6,\n",
    "            'levels': 3,\n",
    "            'threshold': 0.02,\n",
    "        },\n",
    "        param_file='tmp/cifar-10_model_3_levels.ckpt'\n",
    "    )\n",
    "    exp = 0.5956  # From  writeup/imgs/hd_figures.ipynb\n",
    "\n",
    "else:\n",
    "    raise ValueError('Invalid mode')"
   ]
  },
  {
   "cell_type": "code",
   "execution_count": null,
   "metadata": {},
   "outputs": [],
   "source": [
    "tensors = bnn.inspect_network(test_data, test_labels)\n",
    "conv_tensors = tensors['conv_tensors']\n",
    "fc_tensors = tensors['fc_tensors']\n",
    "x = tensors['x']"
   ]
  },
  {
   "cell_type": "code",
   "execution_count": null,
   "metadata": {},
   "outputs": [],
   "source": [
    "print bnn.classify(test_data, test_labels)['score'].mean()"
   ]
  },
  {
   "cell_type": "code",
   "execution_count": null,
   "metadata": {
    "collapsed": true
   },
   "outputs": [],
   "source": [
    "#separating tensors (only convolutional in this case)\n",
    "wc = [a['wc'] for a in conv_tensors]\n",
    "wb = [a['wb'] for a in conv_tensors]\n",
    "ac = [x] + [a['pre_bin_act'] for a in conv_tensors]\n",
    "ab = [x] + [a['post_bin_act'] for a in conv_tensors]"
   ]
  },
  {
   "cell_type": "code",
   "execution_count": null,
   "metadata": {},
   "outputs": [],
   "source": [
    "# Empirical standard deviations of continuous weights, important for ternary network analysis\n",
    "print map(np.std,  wc)"
   ]
  },
  {
   "cell_type": "code",
   "execution_count": null,
   "metadata": {},
   "outputs": [],
   "source": [
    "print 'Proportion of weight values by layer'\n",
    "for wb_ in wb:\n",
    "    vals, cts = np.unique(wb_.ravel(), return_counts=True)\n",
    "    print vals, cts / (1.0 * cts.sum())"
   ]
  },
  {
   "cell_type": "code",
   "execution_count": null,
   "metadata": {},
   "outputs": [],
   "source": [
    "for _ in ac:\n",
    "    print _.shape"
   ]
  },
  {
   "cell_type": "code",
   "execution_count": null,
   "metadata": {
    "collapsed": true
   },
   "outputs": [],
   "source": [
    "#computing dot products between continuous/binary weights and activations\n",
    "config = tf.ConfigProto(device_count = {'GPU': 0})\n",
    "tf.reset_default_graph()\n",
    "with tf.Session(config=config) as sess:\n",
    "    ac_dot_wb = [sess.run(conv2d(a, b)) for a,b in zip(ac, wb)]\n",
    "    ab_dot_wb = [sess.run(conv2d(a, b)) for a,b in zip(ab, wb)]\n",
    "    ac_dot_wc = [sess.run(conv2d(a, b)) for a,b in zip(ac, wc)]\n",
    "    ab_dot_wc = [sess.run(conv2d(a, b)) for a,b in zip(ab, wc)]"
   ]
  },
  {
   "cell_type": "code",
   "execution_count": null,
   "metadata": {},
   "outputs": [],
   "source": [
    "fig, axes = corr_plot(\n",
    "    x_=ab_dot_wb, x_label='$A\\cdot W^{}$'.format(mode), \n",
    "    y_=ab_dot_wc, y_label='$A\\cdot W^c$',\n",
    "#     save_path=None)\n",
    "    save_path='output/{}_weight_bin_mode_{}.pdf'.format(data_set, mode))"
   ]
  },
  {
   "cell_type": "code",
   "execution_count": null,
   "metadata": {},
   "outputs": [],
   "source": [
    "fig, ax = plt.subplots(1, 1, figsize=(2, 2))\n",
    "q = 2\n",
    "_ = hist2d(fig, ax, ab_dot_wb[q].ravel(), ab_dot_wc[q].ravel(), q+1)\n",
    "fontsize = 12\n",
    "ax.set_xlabel('$A\\cdot W^{}$'.format(mode), fontsize=fontsize)\n",
    "ax.set_ylabel('$A\\cdot W^c$', fontsize=fontsize)\n",
    "ymin, ymax = ax.get_ylim()\n",
    "if mode == 'b':\n",
    "    ax.axhspan(ymin, 0, xmin=0.5, alpha=0.5, color='gray', zorder=1)\n",
    "    ax.axhspan(0, ymax, xmax=0.5, alpha=0.5, color='gray', zorder=1)\n",
    "if mode == 't':\n",
    "    ax.axvline(0, c='black', ls='--')\n",
    "    ax.axhline(0, c='black', ls='--')\n",
    "\n",
    "ax.xaxis.set_ticks([])\n",
    "ax.yaxis.set_ticks([])\n",
    "# plt.tight_layout()\n",
    "fn = 'output/{}_hist2d_small_mode_{}.pdf'.format(data_set, mode)\n",
    "plt.savefig(fn, dpi=200)"
   ]
  },
  {
   "cell_type": "code",
   "execution_count": null,
   "metadata": {
    "collapsed": true
   },
   "outputs": [],
   "source": [
    "fig, axes = corr_plot(\n",
    "    x_=ac_dot_wb[1:], x_label='$A^c\\cdot W^{}$'.format(mode), \n",
    "    y_=ab_dot_wb[1:], y_label='$A^{}\\cdot W^{}$'.format(mode, mode),\n",
    "#     save_path=None)\n",
    "    save_path='output/{}_activ_bin_mode_{}.pdf'.format(data_set, mode))"
   ]
  },
  {
   "cell_type": "markdown",
   "metadata": {
    "collapsed": true
   },
   "source": [
    "# Angle Plots"
   ]
  },
  {
   "cell_type": "code",
   "execution_count": null,
   "metadata": {
    "collapsed": true
   },
   "outputs": [],
   "source": [
    "#flattening out continuous and binary weights into 2d vectors for angle computation\n",
    "c_vecs = []\n",
    "b_vecs = []\n",
    "for (c,b) in zip(wc, wb):\n",
    "    c_vecs.append(c.reshape(-1, c.shape[-1]).T)\n",
    "    b_vecs.append(b.reshape(-1, b.shape[-1]).T)"
   ]
  },
  {
   "cell_type": "code",
   "execution_count": null,
   "metadata": {
    "collapsed": true
   },
   "outputs": [],
   "source": [
    "for zoom in [True, False]:\n",
    "    fig, ax = angle_plot(\n",
    "        c_vecs, b_vecs, data_set='CIFAR10', \n",
    "        save_path=None,\n",
    "        zoom=zoom, \n",
    "        exp=exp,\n",
    "    )\n",
    "    ax.set_title(r'$\\angle (w^{}, w^c)$ for {}'.format(mode, 'CIFAR10')) \n",
    "    save_path = 'output/{}_angle_plot_zoom_{}_mode_{}.pdf'.format(data_set, zoom, mode)\n",
    "    plt.savefig(save_path)"
   ]
  },
  {
   "cell_type": "code",
   "execution_count": null,
   "metadata": {
    "collapsed": true
   },
   "outputs": [],
   "source": [
    "# Angles corresponding to the peaks by layer\n",
    "for c, b in zip(c_vecs, b_vecs):\n",
    "    angles = get_angles(c, b)\n",
    "    x_grid = np.arange(0, np.pi/2., 0.001)\n",
    "    pdf = kde_scipy(angles, x_grid, bandwidth=0.01)\n",
    "    idx = np.argmax(pdf)\n",
    "    print x_grid[idx]"
   ]
  },
  {
   "cell_type": "code",
   "execution_count": null,
   "metadata": {
    "collapsed": true
   },
   "outputs": [],
   "source": [
    "stddev_angles(c_vecs, b_vecs, data_set='',\n",
    "              save_path='output/{}_mode_{}_w_sigmas.pdf'.format(data_set, mode))"
   ]
  },
  {
   "cell_type": "code",
   "execution_count": null,
   "metadata": {},
   "outputs": [],
   "source": [
    "wcp = [wc[i].ravel()[0:10000] for i in range(6)]\n",
    "wbp = [wb[i].ravel()[0:10000] for i in range(6)]\n",
    "\n",
    "yscale = {'b': 'log', 't': 'linear'}[mode]\n",
    "fig, ax = weight_dist(wcp, yscale=yscale)\n",
    "if mode == 't':\n",
    "    threshold = bnn.network_params['threshold']\n",
    "    for x in [-1 * threshold, threshold]:\n",
    "        ax.axvline(x=x, c='black')\n",
    "    ax.set_yticks([])\n",
    "    plt.legend(loc='best', labelspacing=0.1, prop={'size': 8}) \n",
    "\n",
    "save_path='output/{}_mode_{}_weight_dist.pdf'.format(data_set, mode)\n",
    "plt.savefig(save_path)"
   ]
  },
  {
   "cell_type": "markdown",
   "metadata": {
    "collapsed": true
   },
   "source": [
    "# Look at impact of binarization of weights on network performance"
   ]
  },
  {
   "cell_type": "code",
   "execution_count": null,
   "metadata": {
    "collapsed": true
   },
   "outputs": [],
   "source": [
    "def test_w_bin_pattern(pattern=[True] * 6):\n",
    "    bnn = BinaryNeuralNetwork(\n",
    "        in_dim=(32, 32, 3), \n",
    "        out_dim=10, \n",
    "        network_params={\n",
    "            'conv': [128, 128, 256, 256, 512, 512],\n",
    "            'max_pool': [False, True, False, True, False, True],\n",
    "            'filter_size': 3,\n",
    "            'fc': [1024, 1024],\n",
    "            'bin_acts': [True] * 6,\n",
    "            'bin_weights': pattern,\n",
    "            'levels': 2,\n",
    "            'threshold': 0,\n",
    "        },\n",
    "        param_file='tmp/cifar-10_model_2_levels.ckpt'\n",
    "    )\n",
    "    assert False, 'Broken, need to refit batch norm weights'\n",
    "    return bnn.classify(test_data, test_labels)['score'].mean()"
   ]
  },
  {
   "cell_type": "code",
   "execution_count": null,
   "metadata": {},
   "outputs": [],
   "source": [
    "for i in range(7):\n",
    "    pattern = [True] * 6\n",
    "    if i < 6:\n",
    "        pattern[i] = False\n",
    "\n",
    "    print pattern\n",
    "    scores = test_w_bin_pattern(pattern)\n",
    "    print scores"
   ]
  },
  {
   "cell_type": "code",
   "execution_count": null,
   "metadata": {},
   "outputs": [],
   "source": [
    "pattern = [False] * 6\n",
    "print pattern\n",
    "scores = test_w_bin_pattern(pattern)\n",
    "print scores"
   ]
  },
  {
   "cell_type": "markdown",
   "metadata": {},
   "source": [
    "# Permutations"
   ]
  },
  {
   "cell_type": "code",
   "execution_count": null,
   "metadata": {
    "collapsed": true
   },
   "outputs": [],
   "source": [
    "ab_perm = []\n",
    "for item in ab:\n",
    "    shp = item.shape\n",
    "    ab_perm.append(np.random.permutation(item.ravel()).reshape(shp))\n",
    "\n",
    "#computing dot products between continuous/binary weights and activations\n",
    "config = tf.ConfigProto(device_count = {'GPU': 0})\n",
    "tf.reset_default_graph()\n",
    "with tf.Session(config=config) as sess:\n",
    "    abperm_dot_wb = [sess.run(conv2d(a, w)) for a, w in zip(ab_perm, wb)]\n",
    "    abperm_dot_wc = [sess.run(conv2d(a, w)) for a, w in zip(ab_perm, wc)]\n",
    "\n",
    "fig, ax = corr_plot(\n",
    "    x_=abperm_dot_wb, x_label='$Aperm\\cdot W^b$', \n",
    "    y_=abperm_dot_wc, y_label='$Aperm\\cdot W^c$',\n",
    "#     save_path=None)\n",
    "    save_path='output/{}_weight_random_perm_bin.pdf'.format(data_set))"
   ]
  }
 ],
 "metadata": {
  "kernelspec": {
   "display_name": "Python 2",
   "language": "python",
   "name": "python2"
  },
  "language_info": {
   "codemirror_mode": {
    "name": "ipython",
    "version": 2
   },
   "file_extension": ".py",
   "mimetype": "text/x-python",
   "name": "python",
   "nbconvert_exporter": "python",
   "pygments_lexer": "ipython2",
   "version": "2.7.13"
  }
 },
 "nbformat": 4,
 "nbformat_minor": 1
}
