{
 "cells": [
  {
   "cell_type": "code",
   "execution_count": null,
   "metadata": {
    "collapsed": true
   },
   "outputs": [],
   "source": [
    "import numpy as np\n",
    "import matplotlib.pyplot as plt\n",
    "from scipy.stats import norm\n",
    "%matplotlib inline\n",
    "from basic_units import radians  # FIXME: easier to hard code labels\n",
    "from itertools import product\n",
    "from matplotlib.ticker import MaxNLocator\n",
    "\n",
    "from scipy.stats import gaussian_kde\n",
    "\n",
    "def kde_scipy(x, x_grid, bandwidth=0.02, **kwargs):\n",
    "    \"\"\"Kernel Density Estimation with Scipy\"\"\"\n",
    "    # Note that scipy weights its bandwidth by the covariance of the\n",
    "    # input data.  To make the results comparable to the other methods,\n",
    "    # we divide the bandwidth by the sample standard deviation here.\n",
    "    kde = gaussian_kde(x, bw_method=bandwidth / x.std(ddof=1), **kwargs)\n",
    "    return kde.evaluate(x_grid)\n",
    "\n",
    "def angle(u, v):\n",
    "    n = np.sqrt(np.dot(u, u) * np.dot(v, v))\n",
    "    if n == 0:\n",
    "#         print 'zero norm'\n",
    "        return 0\n",
    "    else: \n",
    "        cs = np.dot(u, v) / n\n",
    "        return np.arccos(cs)\n",
    "\n",
    "def random_rot(dim):\n",
    "    \"\"\"Return a random rotation matrix, drawn from the Haar distribution\n",
    "    (the only uniform distribution on SO(n)).\n",
    "    The algorithm is described in the paper\n",
    "    Stewart, G.W., 'The efficient generation of random orthogonal\n",
    "    matrices with an application to condition estimators', SIAM Journal\n",
    "    on Numerical Analysis, 17(3), pp. 403-409, 1980.\n",
    "    For more information see\n",
    "    http://en.wikipedia.org/wiki/Orthogonal_matrix#Randomization\"\"\"\n",
    "    H = np.eye(dim)\n",
    "    D = np.ones((dim,))\n",
    "    for n in range(1, dim):\n",
    "        x = np.random.randn(dim-n+1)\n",
    "        D[n-1] = np.sign(x[0])\n",
    "        x[0] -= D[n-1]*np.sqrt((x*x).sum())\n",
    "        # Householder transformation\n",
    "\n",
    "        Hx = np.eye(dim-n+1) - 2.*np.outer(x, x)/(x*x).sum()\n",
    "        mat = np.eye(dim)\n",
    "        mat[n-1:,n-1:] = Hx\n",
    "        H = np.dot(H, mat)\n",
    "    # Fix the last sign such that the determinant is 1\n",
    "    D[-1] = -D.prod()\n",
    "    H = (D*H.T).T\n",
    "    return H\n",
    "\n",
    "def straight_through(x):\n",
    "    return np.clip(x, -1, 1)\n",
    "\n",
    "def binarize(x):\n",
    "    a = -1 * (x < 0)\n",
    "    b = 0 * (x == 0)\n",
    "    c = 1 * (x > 0)\n",
    "    return a + b + c\n",
    "\n",
    "def ternarize(v, thresh):\n",
    "    \"\"\"Ternarize a vector with threshold quant.\"\"\"\n",
    "    return (abs(v) > thresh) * np.sign(v)"
   ]
  },
  {
   "cell_type": "code",
   "execution_count": null,
   "metadata": {},
   "outputs": [],
   "source": [
    "xx = np.arange(-2, 2, 0.01)\n",
    "yy = ternarize(xx, 0.02)\n",
    "fig, ax = plt.subplots(1, 1)\n",
    "ax.plot(xx, yy)\n",
    "a=1.5\n",
    "ax.set_xlim(-a, a)\n",
    "ax.set_ylim(-a, a)\n",
    "ax.set_aspect('equal')\n",
    "ax.plot(xx, straight_through(xx), c='r')"
   ]
  },
  {
   "cell_type": "code",
   "execution_count": null,
   "metadata": {
    "collapsed": true
   },
   "outputs": [],
   "source": [
    "def gen_ctns_vec(d, exp=False, rot=None, k=0.2):\n",
    "#     return np.random.uniform(-1, 1, size=n)\n",
    "    x = np.random.randn(d)\n",
    "    if exp:\n",
    "        exp_ = np.exp(k * (-d/2. + np.arange(0, d, 1)))\n",
    "        x = np.multiply(x, exp_)\n",
    "    if rot is not None:\n",
    "        assert rot.shape == (d, d)\n",
    "        x = np.dot(x, rot)\n",
    "    return x\n",
    "\n",
    "def ctns_ctns_pair_angle(d, exp=False, rot=None):\n",
    "    u, v = [gen_ctns_vec(d, exp=exp, rot=rot) for _ in range(2)]\n",
    "    return angle(v, u)\n",
    "\n",
    "\n",
    "def ctns_bin_self_angle(d, exp=False, rot=None, k=None):\n",
    "    u = gen_ctns_vec(d, exp=exp, rot=rot, k=k)\n",
    "    return angle(binarize(u), u)\n",
    "\n",
    "\n",
    "def ctns_tern_self_angle(d, thresh=2):\n",
    "    u = gen_ctns_vec(d, exp=False, rot=None, k=None)\n",
    "    return angle(ternarize(u, thresh=thresh), u)"
   ]
  },
  {
   "cell_type": "code",
   "execution_count": null,
   "metadata": {
    "collapsed": true
   },
   "outputs": [],
   "source": [
    "def cc_cb_plot(fig, ax, cc, cb, legend=False, \n",
    "               a=np.arccos(np.sqrt(2/np.pi))\n",
    "              ):\n",
    "    \"\"\"\n",
    "    cc: array, shape (n_s,)\n",
    "        Samples of the angle between two continuous vectos\n",
    "    cb: array, shape (n_s,)\n",
    "        Samples of the angle between a vector and its binarized version\n",
    "    \"\"\"\n",
    "    x_grid = np.arange(0, np.pi, 0.01)\n",
    "    cc_pdf = kde_scipy(cc, x_grid)\n",
    "    cb_pdf = kde_scipy(cb, x_grid)\n",
    "    x_grid_rad = [u * radians for u in x_grid]\n",
    "    for pdf, label, c in zip(\n",
    "        [cc_pdf, cb_pdf],\n",
    "        [r'$\\angle [u, v]$', r'$\\angle [u, \\theta (u)]$'],\n",
    "        ['b', 'r']):\n",
    "        ax.plot(x_grid_rad, pdf, alpha=1.0, lw=3, xunits=radians, label=label, c=c, linestyle='-')    \n",
    "\n",
    "    if a is not None:\n",
    "        ax.axvline(x=a * radians, c='black', linestyle='--', lw=2)\n",
    "    \n",
    "#     ax.set_xlabel('Angle (rad)')\n",
    "    ax.set_xlabel('')\n",
    "    ax.get_yaxis().set_visible(False)\n",
    "    if legend:\n",
    "        ax.legend(loc='best', fontsize=8, borderpad=0.2)\n",
    "    return x_grid, cc_pdf, cb_pdf"
   ]
  },
  {
   "cell_type": "code",
   "execution_count": null,
   "metadata": {
    "collapsed": true
   },
   "outputs": [],
   "source": [
    "def exp_rot_plot(fig, ax, cb, cbr, legend=False):\n",
    "    \"\"\"\n",
    "    cb: array, shape (n_s,)\n",
    "        Samples of the angle between a vector and its binarized version\n",
    "    cbr: array, shape (n_s,)\n",
    "        Samples of the angle between a vector and random rotation binarized version\n",
    "    \"\"\"\n",
    "    x_grid = np.arange(0, np.pi, 0.01)\n",
    "    cb_pdf = kde_scipy(cb, x_grid)\n",
    "    cbr_pdf = kde_scipy(cbr, x_grid)\n",
    "    x_grid_rad = [u * radians for u in x_grid]\n",
    "    for pdf, label, c in zip(\n",
    "        [cb_pdf, cbr_pdf],\n",
    "        [r'$\\angle [u, \\theta(u)]$', r'$\\angle [u, \\theta_R (u)]$'],\n",
    "        ['r', 'orange']):\n",
    "        ax.plot(x_grid_rad, pdf, alpha=1.0, lw=3, xunits=radians, label=label, c=c, linestyle='-')    \n",
    "\n",
    "    a = np.arccos(np.sqrt(2/np.pi))\n",
    "    ax.axvline(x=a * radians, c='black', linestyle='--', lw=2)\n",
    "    \n",
    "#     ax.set_xlabel('Angle (rad)')\n",
    "    ax.set_xlabel('')\n",
    "    ax.get_yaxis().set_visible(False)\n",
    "    if legend:\n",
    "        ax.legend(loc='best', fontsize=8, borderpad=0.2)"
   ]
  },
  {
   "cell_type": "markdown",
   "metadata": {},
   "source": [
    "# Binary Network Analysis"
   ]
  },
  {
   "cell_type": "code",
   "execution_count": null,
   "metadata": {
    "collapsed": true
   },
   "outputs": [],
   "source": [
    "n_s = 10000\n",
    "d_ = [3, 10, 27]\n",
    "\n",
    "cc_ = {}\n",
    "cb_ = {}\n",
    "for d in d_:\n",
    "#     rot = random_rot(d)\n",
    "    rot = None\n",
    "    cc_[d] = np.array([ctns_ctns_pair_angle(d, exp=False, rot=rot) for _ in range(n_s)])\n",
    "    cb_[d] = np.array([ctns_bin_self_angle(d, exp=False, rot=rot) for _ in range(n_s)])"
   ]
  },
  {
   "cell_type": "code",
   "execution_count": null,
   "metadata": {},
   "outputs": [],
   "source": [
    "fig, axes = plt.subplots(1, 3, sharey=True, figsize=(4, 2.0))\n",
    "fig.subplots_adjust(wspace=0.2)\n",
    "for i, d in enumerate(d_):\n",
    "    cc = cc_[d]\n",
    "    cb = cb_[d]\n",
    "    ax = axes[i]\n",
    "    ax.set_title('d = {}'.format(d))\n",
    "    cc_cb_plot(fig, ax, cc, cb, legend=i==0, a=None)\n",
    "#plt.savefig('ctns_rand_bin.pdf', dpi=200)"
   ]
  },
  {
   "cell_type": "code",
   "execution_count": null,
   "metadata": {},
   "outputs": [],
   "source": [
    "fig, axes = plt.subplots(1, 1, sharey=True, figsize=(2, 2))\n",
    "fig.subplots_adjust(wspace=0.2)\n",
    "d = d_[-1]\n",
    "cc = cc_[d]\n",
    "cb = cb_[d]\n",
    "ax.set_title('d = {}'.format(d))\n",
    "_ = cc_cb_plot(fig, axes, cc, cb, legend=True)\n",
    "#plt.savefig('ctns_rand_bin25.png', dpi=200)"
   ]
  },
  {
   "cell_type": "markdown",
   "metadata": {},
   "source": [
    "# Exponential Covariance Matrix with and without Rotation"
   ]
  },
  {
   "cell_type": "code",
   "execution_count": null,
   "metadata": {
    "collapsed": true
   },
   "outputs": [],
   "source": [
    "n_s = 100\n",
    "d_ = [10, 100, 500]\n",
    "\n",
    "k = 0.1\n",
    "\n",
    "cb_ = {}\n",
    "cbr_ = {}\n",
    "for d in d_:\n",
    "    rot = random_rot(d)\n",
    "    cb_[d] = np.array([ctns_bin_self_angle(d, exp=True, rot=None, k=k) for _ in range(n_s)])\n",
    "    cbr_[d] = np.array([ctns_bin_self_angle(d, exp=True, rot=rot, k=k) for _ in range(n_s)])"
   ]
  },
  {
   "cell_type": "code",
   "execution_count": null,
   "metadata": {},
   "outputs": [],
   "source": [
    "fig, axes = plt.subplots(1, 3, sharey=True, figsize=(4, 2.0))\n",
    "fig.subplots_adjust(wspace=0.2)\n",
    "for i, d in enumerate(d_):\n",
    "    ax = axes[i]\n",
    "    ax.set_title('d = {}'.format(d))\n",
    "    exp_rot_plot(fig, ax, cb_[d], cbr_[d], legend=i==0)\n",
    "plt.savefig('exp_rot_bin.pdf', dpi=200)"
   ]
  },
  {
   "cell_type": "markdown",
   "metadata": {},
   "source": [
    "# Higher Order Quantization"
   ]
  },
  {
   "cell_type": "code",
   "execution_count": null,
   "metadata": {},
   "outputs": [],
   "source": [
    "n_s = 10000\n",
    "d_ = [1000]\n",
    "\n",
    "emp = 0.02 / 0.18\n",
    "print emp  # empirical value threshold / sigma\n",
    "\n",
    "thresh_ = [0.01, emp, 0.2, 0.3, 0.5]\n",
    "cc_ = []\n",
    "cb_ = []\n",
    "for d, thresh in product(d_, thresh_):\n",
    "    rot = None\n",
    "    cc_angles = np.array([ctns_ctns_pair_angle(d) for _ in range(n_s)])\n",
    "    cb_angles = np.array([ctns_tern_self_angle(d, thresh=thresh) for _ in range(n_s)])\n",
    "    cc_.append((d, thresh, cc_angles))\n",
    "    cb_.append((d, thresh, cb_angles))"
   ]
  },
  {
   "cell_type": "code",
   "execution_count": null,
   "metadata": {},
   "outputs": [],
   "source": [
    "def f(x):\n",
    "    return (x[0], x[1], np.median(x[2]))\n",
    "\n",
    "peaks = map(f, cb_)\n",
    "dd_, qq_, yy = zip(*peaks)\n",
    "\n",
    "fig, ax = plt.subplots(figsize=(2, 2))\n",
    "ax.plot(qq_, yy, 'o-')\n",
    "ax.set_ylim([0, np.pi/4])\n",
    "ax.set_yticks([0, np.pi / 8, np.pi/4])\n",
    "ax.set_yticklabels([0, r'$\\pi/8$', r'$\\pi/4$'])\n",
    "ax.set_xlim([0, 0.6])\n",
    "ax.xaxis.set_major_locator(MaxNLocator(2))\n",
    "\n",
    "ax.set_title('Peak Angle\\n vs Threshold')\n",
    "plt.tight_layout()\n",
    "plt.savefig('peak_angle_vs_threshold_tern.pdf')\n",
    "exp = yy[np.where(np.array(qq_) == emp)[0][0]]\n",
    "print exp * 180. / np.pi  # Peak value as a function of threshold"
   ]
  },
  {
   "cell_type": "code",
   "execution_count": null,
   "metadata": {},
   "outputs": [],
   "source": [
    "fig, ax = plt.subplots(figsize=(2, 2))\n",
    "\n",
    "for cc, cb in zip(cc_, cb_):\n",
    "    d, quant, cc = cc\n",
    "    d, quant, cb = cb\n",
    "    if quant != emp:\n",
    "        continue\n",
    "    cc_cb_plot(fig, ax, cc, cb, legend=True, a=exp)\n",
    "\n",
    "ax.set_title('d = {}'.format(d))\n",
    "plt.savefig('ternary_angle_dist.pdf')"
   ]
  },
  {
   "cell_type": "code",
   "execution_count": null,
   "metadata": {},
   "outputs": [],
   "source": [
    "norm.cdf(emp) - norm.cdf(-emp)  # Fraction of 0 weights assuming a normal distribution. "
   ]
  },
  {
   "cell_type": "markdown",
   "metadata": {},
   "source": [
    "# Approximate Backprop"
   ]
  },
  {
   "cell_type": "code",
   "execution_count": null,
   "metadata": {},
   "outputs": [],
   "source": [
    "fig, ax = plt.subplots(1, 2, sharey=True, figsize=(2.6, 1.6))\n",
    "fig.subplots_adjust(wspace=0.2)\n",
    "\n",
    "a = 2.3\n",
    "x = np.arange(-a, a, 0.01)\n",
    "titles = ['$f^{forward}(x)$', '$f^{backward}(x)$']\n",
    "ys = [binarize(x), straight_through(x)]\n",
    "\n",
    "for i, (y, title) in enumerate(zip(ys, titles)):\n",
    "    ax[i].set_ylim([-a, a]);\n",
    "    ax[i].set_xlim([-a, a]);\n",
    "    ax[i].plot(x, y, lw=3, alpha=0.5)\n",
    "\n",
    "    ax[i].set_aspect('equal')\n",
    "    ax[i].set_title(title)\n",
    "\n",
    "plt.tight_layout()\n",
    "plt.savefig('straight_through.pdf')"
   ]
  },
  {
   "cell_type": "markdown",
   "metadata": {
    "collapsed": true
   },
   "source": [
    "# Binary random vectors (Outdated)"
   ]
  },
  {
   "cell_type": "code",
   "execution_count": null,
   "metadata": {
    "collapsed": true
   },
   "outputs": [],
   "source": [
    "n = 10\n",
    "n_s = 5000"
   ]
  },
  {
   "cell_type": "code",
   "execution_count": null,
   "metadata": {
    "collapsed": true
   },
   "outputs": [],
   "source": [
    "def gen_bin_vec(n):\n",
    "    return np.random.randint(2, size=n) * 2 - 1\n",
    "\n",
    "def gen_angle(n):\n",
    "    u, v = [gen_bin_vec(n) for _ in range(2)]\n",
    "    return angle(u, v)"
   ]
  },
  {
   "cell_type": "code",
   "execution_count": null,
   "metadata": {
    "collapsed": true
   },
   "outputs": [],
   "source": [
    "data = []\n",
    "n_ = [10, 100, 1000]\n",
    "for n in n_:\n",
    "    data.append((n, np.array([gen_angle(n) for _ in range(n_s)])))"
   ]
  },
  {
   "cell_type": "code",
   "execution_count": null,
   "metadata": {},
   "outputs": [],
   "source": [
    "fig, ax = plt.subplots(1, 3, sharey=True, figsize=(6, 2))\n",
    "fig.subplots_adjust(wspace=0.2)\n",
    "for i, (k, v) in enumerate(data):\n",
    "    x_grid = np.arange(0, np.pi, 0.01)\n",
    "    pdf = kde_scipy(v, x_grid)\n",
    "    ax[i].plot(\n",
    "        [u * radians for u in x_grid], \n",
    "         pdf, alpha=0.5, lw=3, xunits=radians)    \n",
    "    ax[i].set_xlabel('Angle (rad)')\n",
    "    ax[i].get_yaxis().set_visible(False)\n",
    "    ax[i].set_title('n = {}'.format(k))\n",
    "#     break\n",
    "plt.savefig('hd_angles.pdf', dpi=200)"
   ]
  },
  {
   "cell_type": "code",
   "execution_count": null,
   "metadata": {
    "collapsed": true
   },
   "outputs": [],
   "source": []
  }
 ],
 "metadata": {
  "kernelspec": {
   "display_name": "Python 2",
   "language": "python",
   "name": "python2"
  },
  "language_info": {
   "codemirror_mode": {
    "name": "ipython",
    "version": 2
   },
   "file_extension": ".py",
   "mimetype": "text/x-python",
   "name": "python",
   "nbconvert_exporter": "python",
   "pygments_lexer": "ipython2",
   "version": "2.7.13"
  }
 },
 "nbformat": 4,
 "nbformat_minor": 1
}
